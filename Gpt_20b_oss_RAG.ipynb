{
  "nbformat": 4,
  "nbformat_minor": 0,
  "metadata": {
    "colab": {
      "provenance": []
    },
    "kernelspec": {
      "name": "python3",
      "display_name": "Python 3"
    },
    "language_info": {
      "name": "python"
    }
  },
  "cells": [
    {
      "cell_type": "code",
      "execution_count": null,
      "metadata": {
        "id": "6jNtxcZTl_rI"
      },
      "outputs": [],
      "source": [
        "!sudo apt update\n",
        "!sudo apt install -y pciutils\n",
        "!curl -fsSL https://ollama.com/install.sh | sh"
      ]
    },
    {
      "cell_type": "code",
      "source": [
        "!curl -fsSL https://ollama.com/install.sh | sh"
      ],
      "metadata": {
        "id": "-oXc4dhRmEZG"
      },
      "execution_count": null,
      "outputs": []
    },
    {
      "cell_type": "code",
      "source": [
        "from google.colab import drive\n",
        "drive.mount('/content/drive')"
      ],
      "metadata": {
        "id": "Ow8YdCvimEXO"
      },
      "execution_count": null,
      "outputs": []
    },
    {
      "cell_type": "code",
      "source": [
        "import os\n",
        "os.chdir('/content/drive/MyDrive/Your_Path')"
      ],
      "metadata": {
        "id": "CytxPmOnmEVB"
      },
      "execution_count": null,
      "outputs": []
    },
    {
      "cell_type": "code",
      "source": [
        "import threading\n",
        "import subprocess\n",
        "import time\n",
        "\n",
        "def run_ollama_serve():\n",
        "  subprocess.Popen([\"ollama\", \"serve\"])\n",
        "\n",
        "thread = threading.Thread(target=run_ollama_serve)\n",
        "thread.start()\n",
        "time.sleep(5)"
      ],
      "metadata": {
        "id": "e_ORoIsVmESr"
      },
      "execution_count": null,
      "outputs": []
    },
    {
      "cell_type": "markdown",
      "source": [
        "# Pull Ollama"
      ],
      "metadata": {
        "id": "oJJN1kw5mUnr"
      }
    },
    {
      "cell_type": "code",
      "source": [
        "!ollama pull gpt-oss:20b"
      ],
      "metadata": {
        "id": "eieV9TimmEQY"
      },
      "execution_count": null,
      "outputs": []
    },
    {
      "cell_type": "code",
      "source": [
        "!pip install langchain-ollama"
      ],
      "metadata": {
        "id": "j2hk15XlmEOA"
      },
      "execution_count": null,
      "outputs": []
    },
    {
      "cell_type": "code",
      "source": [
        "import json\n",
        "from pathlib import Path\n",
        "\n",
        "# Drive’daki JSON dosyanızın yolu\n",
        "JSON_PATH = Path(\"/content/drive/MyDrive/json_path\")\n",
        "\n",
        "with open(JSON_PATH, \"r\", encoding=\"utf-8\") as f:\n",
        "    data = json.load(f)\n",
        "\n",
        "# Text ve metadata listeleri\n",
        "texts, metadatas = [], []\n",
        "\n",
        "\n",
        "# Depends on your json data structure\n",
        "for rec in data:\n",
        "    soru = rec.get(\"input\", \"\")\n",
        "    out  = rec.get(\"output\", {}) or {}\n",
        "    cevap = out.get(\"answer\", \"\")\n",
        "    konu  = out.get(\"Konu Başlığı\", \"\")\n",
        "    fak   = out.get(\"Fakülte\", \"\")\n",
        "\n",
        "    text = (\n",
        "        f\"Soru: {soru}\\n\"\n",
        "        f\"Cevap: {cevap}\\n\"\n",
        "        f\"Konu Başlığı: {konu}\\n\"\n",
        "        f\"Fakülte: {fak}\"\n",
        "    )\n",
        "    texts.append(text)\n",
        "    metadatas.append({\"Konu Başlığı\": konu, \"Fakülte\": fak, \"source\": JSON_PATH.name})\n",
        "\n",
        "len(texts), texts[0][:250]\n"
      ],
      "metadata": {
        "id": "E54Q55VVmEMM"
      },
      "execution_count": null,
      "outputs": []
    },
    {
      "cell_type": "markdown",
      "source": [
        "# Embedding and Vector DB"
      ],
      "metadata": {
        "id": "524uRmrVnNjz"
      }
    },
    {
      "cell_type": "code",
      "source": [
        "from langchain_ollama import OllamaEmbeddings\n",
        "from langchain_community.vectorstores import Chroma\n",
        "\n",
        "# # Kalıcı indeks klasörü (Drive’da dursun ki tekrar oluşturmak zorunda kalmayalım)\n",
        "PERSIST_DIR = \"/content/drive/MyDrive/Chroma_Rag_Index_Path\"\n",
        "\n",
        "embeddings = OllamaEmbeddings(model=\"nomic-embed-text\")\n",
        "\n",
        "# Eğer ilk kez oluşturuyorsan:\n",
        "vectordb = Chroma.from_texts(\n",
        "    texts=texts,\n",
        "    embedding=embeddings,\n",
        "    metadatas=metadatas,\n",
        "    persist_directory=PERSIST_DIR,\n",
        ")\n",
        "vectordb.persist()\n",
        "\n",
        "# Sonraki oturumlarda mevcut indeksi şu şekilde yükleyebilirsin:\n",
        "vectordb = Chroma(embedding_function=embeddings, persist_directory=PERSIST_DIR)\n",
        "\n",
        "print(\"Vektör sayısı:\", vectordb._collection.count())\n"
      ],
      "metadata": {
        "id": "172f4Be8mEJ7"
      },
      "execution_count": null,
      "outputs": []
    },
    {
      "cell_type": "markdown",
      "source": [
        "# Initial Prompt, Formatting and"
      ],
      "metadata": {
        "id": "gEYtHRCMnnLs"
      }
    },
    {
      "cell_type": "code",
      "source": [
        "from langchain_ollama.llms import OllamaLLM\n",
        "from langchain_core.prompts import ChatPromptTemplate\n",
        "\n",
        "retriever = vectordb.as_retriever(search_kwargs={\"k\": 4})\n",
        "\n",
        "# llm = OllamaLLM(model=\"gpt-oss:20b\")\n",
        "\n",
        "PROMPT = ChatPromptTemplate.from_template(\"\"\"Aşağıdaki bağlamı kullanarak soruya **Türkçe**, **kısa ve doğru** bir yanıt ver.\n",
        "Eğer bağlam soruyu yanıtlamak için yetersizse: \"Bu konuda elimde veri yok.\" de.\n",
        "\n",
        "[BAĞLAM BAŞLANGIÇ]\n",
        "{context}\n",
        "[BAĞLAM BİTİŞ]\n",
        "\n",
        "Soru: {question}\n",
        "Cevap:\"\"\")\n",
        "\n",
        "def format_docs(docs):\n",
        "    # Chroma->LangChain dökümanlarını tek metne birleştir\n",
        "    return \"\\n\\n\".join([d.page_content for d in docs])\n",
        "\n",
        "def ask(question: str):\n",
        "    docs = retriever.get_relevant_documents(question)\n",
        "    context = format_docs(docs)\n",
        "    prompt = PROMPT.format(context=context, question=question)\n",
        "    return llm.invoke(prompt), docs"
      ],
      "metadata": {
        "id": "2fIw3fkWmX_M"
      },
      "execution_count": null,
      "outputs": []
    },
    {
      "cell_type": "markdown",
      "source": [
        "# Ask to LLM"
      ],
      "metadata": {
        "id": "H0fw8fdXn8IA"
      }
    },
    {
      "cell_type": "code",
      "source": [
        "Deneme:\n",
        "answer, used_docs = ask(\"YKS dil puanım ile hangi fırsatlara sahip oluyorum üniversitede?\")\n",
        "print(answer)"
      ],
      "metadata": {
        "id": "o49mCFN6mX9d"
      },
      "execution_count": null,
      "outputs": []
    },
    {
      "cell_type": "markdown",
      "source": [
        "# RANK_BM_25"
      ],
      "metadata": {
        "id": "N4ZIG7YtqiHJ"
      }
    },
    {
      "cell_type": "code",
      "source": [
        "!pip install rank_bm25"
      ],
      "metadata": {
        "id": "YCVfp3mrmX7X"
      },
      "execution_count": null,
      "outputs": []
    },
    {
      "cell_type": "code",
      "source": [
        "from langchain_community.retrievers import BM25Retriever\n",
        "from langchain.schema import Document\n",
        "\n",
        "# Chroma'ya verdiğin aynı içeriklerden BM25 dokümanları oluştur\n",
        "bm25_docs = [Document(page_content=t, metadata=m) for t, m in zip(texts, metadatas)]\n",
        "bm25 = BM25Retriever.from_documents(bm25_docs)\n",
        "bm25.k = 8  # kaç sonuç istiyorsun"
      ],
      "metadata": {
        "id": "8W-ekJ6EmX5f"
      },
      "execution_count": null,
      "outputs": []
    },
    {
      "cell_type": "code",
      "source": [
        "from langchain_community.vectorstores import Chroma\n",
        "\n",
        "vectordb = Chroma(embedding_function=embeddings, persist_directory=PERSIST_DIR)\n",
        "\n",
        "chroma_ret = vectordb.as_retriever(\n",
        "    search_type=\"mmr\",            # çeşitlilik + alaka\n",
        "    search_kwargs={\"k\": 8, \"fetch_k\": 30}\n",
        ")"
      ],
      "metadata": {
        "id": "qWOpQT48mX3P"
      },
      "execution_count": null,
      "outputs": []
    },
    {
      "cell_type": "code",
      "source": [
        "from langchain.retrievers import EnsembleRetriever\n",
        "\n",
        "retriever = EnsembleRetriever(\n",
        "    retrievers=[chroma_ret, bm25],\n",
        "    weights=[0.6, 0.4]  # vektör biraz daha ağır basın\n",
        ")"
      ],
      "metadata": {
        "id": "TQeNyN1TmX0x"
      },
      "execution_count": null,
      "outputs": []
    },
    {
      "cell_type": "code",
      "source": [
        "from langchain.retrievers.multi_query import MultiQueryRetriever\n",
        "from langchain_ollama.llms import OllamaLLM\n",
        "from langchain_core.prompts import ChatPromptTemplate # Import ChatPromptTemplate\n",
        "\n",
        "llm_rewriter = OllamaLLM(model=\"gpt-oss:20b\")\n",
        "\n",
        "MQ_PROMPT = \"\"\"Aşağıdaki kullanıcı sorusu için Türkçe 4 farklı arama varyantı üret.\n",
        "Varyantlar kısa, spesifik ve eşanlamlı sorgular olsun; nokta ile bitir.\n",
        "Soru: {question}\n",
        "\"\"\"\n",
        "\n",
        "multi_retriever = MultiQueryRetriever.from_llm(\n",
        "    retriever=retriever,\n",
        "    llm=llm_rewriter,\n",
        "    prompt=ChatPromptTemplate.from_template(MQ_PROMPT) # Convert string to ChatPromptTemplate\n",
        ")"
      ],
      "metadata": {
        "id": "FyEiXGgMoFP_"
      },
      "execution_count": null,
      "outputs": []
    },
    {
      "cell_type": "code",
      "source": [
        "from langchain_core.prompts import ChatPromptTemplate\n",
        "from langchain_ollama.llms import OllamaLLM\n",
        "\n",
        "# llm = OllamaLLM(model=\"gpt-oss:20b\")\n",
        "\n",
        "PROMPT = ChatPromptTemplate.from_template(\"\"\"Aşağıdaki bağlamı kullanarak soruya **Türkçe**, **kısa ve doğru** bir yanıt ver.\n",
        "Eğer bağlam soruyu yanıtlamak için yetersizse: \"Bu konuda elimde veri yok.\" de.\n",
        "\n",
        "[BAĞLAM BAŞLANGIÇ]\n",
        "{context}\n",
        "[BAĞLAM BİTİŞ]\n",
        "\n",
        "Soru: {question}\n",
        "Cevap:\"\"\")\n",
        "\n",
        "def format_docs(docs):\n",
        "    return \"\\n\\n\".join(d.page_content for d in docs)\n",
        "\n",
        "def ask(question: str):\n",
        "    docs = multi_retriever.get_relevant_documents(question)\n",
        "    context = format_docs(docs)\n",
        "    prompt = PROMPT.format(context=context, question=question)\n",
        "    return llm.invoke(prompt), docs\n",
        "\n",
        "# Örnek: Soyut soru\n",
        "# ans, used = ask(\"Özel Eğitim mezunları nerelerde çalışabilir?\")\n",
        "# print(ans)"
      ],
      "metadata": {
        "id": "eDoBDhrwoFOP"
      },
      "execution_count": null,
      "outputs": []
    },
    {
      "cell_type": "code",
      "source": [
        "ans, used = ask(\"Ben bir öğrenciyim. Kopya çekilmesi konusunda endişe yaşıyorum. Sağlık Bilimleri Fakültesinde öğrenciyim. Bir öğrencinin kopya çektiği tespit edilince nasıl bir sonuç oluyor? Nasıl Cezalar verilir?\")\n",
        "print(ans)"
      ],
      "metadata": {
        "id": "FD4zIsLYoFMX"
      },
      "execution_count": null,
      "outputs": []
    },
    {
      "cell_type": "code",
      "source": [],
      "metadata": {
        "id": "R7M7VkuYoFKT"
      },
      "execution_count": null,
      "outputs": []
    },
    {
      "cell_type": "code",
      "source": [],
      "metadata": {
        "id": "KNXZwuPUoFII"
      },
      "execution_count": null,
      "outputs": []
    },
    {
      "cell_type": "code",
      "source": [],
      "metadata": {
        "id": "O9E1A63PoFF2"
      },
      "execution_count": null,
      "outputs": []
    },
    {
      "cell_type": "code",
      "source": [],
      "metadata": {
        "id": "A3Oye1RDoFDl"
      },
      "execution_count": null,
      "outputs": []
    },
    {
      "cell_type": "code",
      "source": [],
      "metadata": {
        "id": "NwsQJlt3oFBT"
      },
      "execution_count": null,
      "outputs": []
    }
  ]
}